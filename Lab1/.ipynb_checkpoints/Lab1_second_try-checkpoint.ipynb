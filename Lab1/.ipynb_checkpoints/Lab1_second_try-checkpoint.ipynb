{
 "metadata": {
  "name": "",
  "signature": "sha256:f6564d5314d40eb5a5331f32157537de243522736d155dbb6ec63b4fa5dc3578"
 },
 "nbformat": 3,
 "nbformat_minor": 0,
 "worksheets": [
  {
   "cells": [
    {
     "cell_type": "markdown",
     "metadata": {},
     "source": [
      "# Lab 1: Linear Regression and Overfitting\n",
      "\n",
      "### Machine Learning and Pattern Recognition, September 2014\n",
      "\n",
      "* The lab exercises should be made in groups of two or three people.\n",
      "* The deadline is september 21, 23:59.\n",
      "* Assignment should be sent to taco.cohen@gmail.com (Taco Cohen). The subject line of your email should be \"\\#lab\\_lastname1\\_lastname2\\_lastname3\".\n",
      "* Put your and your teammates' names in the body of the email\n",
      "* Attach the .IPYNB (IPython Notebook) file containing your code and answers. Naming of the file follows the same rule as the subject line. For example, if the subject line is \"lab01\\_Kingma\\_Hu\", the attached file should be \"lab01\\_Kingma\\_Hu.ipynb\". Only use underscores (\"\\_\") to connect names, otherwise the files cannot be parsed.\n",
      "\n",
      "Notes on implementation:\n",
      "\n",
      "* You should write your code and answers in an IPython Notebook: http://ipython.org/notebook.html. If you have problems, please contact us.\n",
      "* Please write your answers right below the questions.\n",
      "* Among the first lines of your notebook should be \"%pylab inline\". This imports all required modules, and your plots will appear inline.\n",
      "* For this lab, your regression solutions should be in closed form, i.e., should not perform iterative gradient-based optimization but find the exact optimum directly.\n",
      "* NOTE: Make sure we can run your notebook / scripts!"
     ]
    },
    {
     "cell_type": "markdown",
     "metadata": {},
     "source": [
      "$\\newcommand{\\bPhi}{\\mathbf{\\Phi}}$\n",
      "$\\newcommand{\\bx}{\\mathbf{x}}$\n",
      "$\\newcommand{\\bw}{\\mathbf{w}}$\n",
      "$\\newcommand{\\bt}{\\mathbf{t}}$\n",
      "$\\newcommand{\\by}{\\mathbf{y}}$\n",
      "$\\newcommand{\\bm}{\\mathbf{m}}$\n",
      "$\\newcommand{\\bS}{\\mathbf{S}}$\n",
      "$\\newcommand{\\bI}{\\mathbf{I}}$\n",
      "\n",
      "## Part 1: Polynomial Regression"
     ]
    },
    {
     "cell_type": "markdown",
     "metadata": {},
     "source": [
      "### 1.1. Generate sinusoidal data (5 points)\n",
      "Write a method `gen_sinusoidal(N)` that generates toy data like in fig 1.2 of the MLPR book. The method should have a parameter $N$, and should return $N$-dimensional vectors $\\bx$ and $\\bt$, where $\\bx$ contains evenly spaced values from 0 to (including) 2$\\pi$, and the elements $t_i$ of $\\bt$ are distributed according to:\n",
      "\n",
      "$$t_i \\sim \\mathcal{N}(\\mu_i, \\sigma^2)$$\n",
      "\n",
      "where $x_i$ is the $i$-th elements of $\\bf{x}$, the mean $\\mu_i = sin(x_i)$ and the standard deviation $\\sigma = 0.2$.\n"
     ]
    },
    {
     "cell_type": "code",
     "collapsed": false,
     "input": [
      "%pylab inline\n",
      "from math import pi, sin\n",
      "# for plotting\n",
      "x_plot = np.linspace(0, 2*pi, 1000)\n",
      "\n",
      "def gen_sinusoidal(N):\n",
      "    x = np.linspace(0, 2*pi, N)\n",
      "    t = np.random.normal(0, 0.2, N) + np.array(map(sin, x))\n",
      "    return x, t"
     ],
     "language": "python",
     "metadata": {},
     "outputs": [
      {
       "output_type": "stream",
       "stream": "stdout",
       "text": [
        "Populating the interactive namespace from numpy and matplotlib\n"
       ]
      }
     ],
     "prompt_number": 22
    },
    {
     "cell_type": "markdown",
     "metadata": {},
     "source": [
      "### 1.2 Polynomial regression (15 points)\n",
      "\n",
      "Write a method `fit_polynomial(x, t, M)` that finds the maximum-likelihood solution of an _unregularized_ $M$-th order polynomial for some dataset `x`. The error function to minimize w.r.t. $\\bw$ is:\n",
      "\n",
      "$E(\\bw) = \\frac{1}{2} (\\bPhi\\bw - \\bt)^T(\\bPhi\\bw - \\bt)$\n",
      "\n",
      "where $\\bPhi$ is the _feature matrix_ (or _design matrix_) as explained in the MLPR book, $\\bt$ is the vector of target values. Your method should return a vector $\\bw$ with the maximum-likelihood parameter estimates. "
     ]
    },
    {
     "cell_type": "code",
     "collapsed": false,
     "input": [
      "def fit_polynomial(x, t, M):\n",
      "    phi = np.tile(np.copy(x),(M+1,1))\n",
      "    for i in xrange(len(phi)):\n",
      "        phi[i] = phi[i]**i\n",
      "    phi = phi.T\n",
      "    return np.linalg.inv(phi.T.dot(phi)).dot(phi.T).dot(t)\n",
      "    \n",
      "sampleData = gen_sinusoidal(9)\n",
      "sampleX = sampleData[0]\n",
      "sampleY = sampleData[1]"
     ],
     "language": "python",
     "metadata": {},
     "outputs": [],
     "prompt_number": 24
    },
    {
     "cell_type": "markdown",
     "metadata": {},
     "source": [
      "### 1.3 Plot (5 points)\n",
      "Sample a dataset with $N=9$, and fit four polynomials with $M \\in (0, 1, 3, 9)$.\n",
      "For each value of $M$, plot the prediction function, along with the data and the original sine function. The resulting figure should look similar to fig 1.4 of the MLPR book. Note that you can use matplotlib's `plt.pyplot(.)` functionality for creating grids of figures."
     ]
    },
    {
     "cell_type": "code",
     "collapsed": false,
     "input": [
      "import matplotlib.pyplot as plt\n",
      "import numpy as np\n",
      "\n",
      "def fit_polynominals() :\n",
      "    pol = []\n",
      "    M = [0, 1, 3, 8]\n",
      "    \n",
      "    #for m in M:\n",
      "    #    w_m = fit_polynomial(sampleX, sampleY, m)\n",
      "    #    print w_m\n",
      "    fig = plt.figure()\n",
      "    subplot = 1\n",
      "    for m in M:    \n",
      "        fig.add_subplot(2, 2, subplot)\n",
      "        plt.plot(x_plot, np.sin(x_plot))\n",
      "        for i in range (0, np.size(sampleX)):\n",
      "            plt.plot(sampleX[i], sampleY[i], marker='o', color='k')\n",
      "        poly = fit_polynomial(sampleX, sampleY, m)\n",
      "        #pol = poly[0]*x_plot**0+poly[1]*x_plot**1+poly[2]*x_plot**2+poly[3]*x_plot**3+poly[4]*x_plot**4+poly[5]*x_plot**5+poly[6]*x_plot**6+poly[7]*x_plot**7+poly[8]*x_plot**8+poly[9]*x_plot**9\n",
      "        pol = np.polynomial.Polynomial(poly)\n",
      "        plt.plot(x_plot, pol(x_plot), 'r')\n",
      "        subplot = subplot + 1\n",
      "    plt.show()\n",
      "    \n",
      "fit_polynominals()"
     ],
     "language": "python",
     "metadata": {},
     "outputs": [
      {
       "metadata": {},
       "output_type": "display_data",
       "png": "[encoded data removed]",
       "text": [
        "<matplotlib.figure.Figure at 0x3d1f0b8>"
       ]
      }
     ],
     "prompt_number": 25
    },
    {
     "cell_type": "markdown",
     "metadata": {},
     "source": [
      "### 1.4 Regularized linear regression (10 points)\n",
      "\n",
      "Write a method `fit_polynomial_reg(x, t, M, lamb)` that fits a _regularized_ $M$-th order polynomial to the sinusoidal data, as discussed in the lectures, where `lamb` is the regularization term _lambda_. (Note that 'lambda' cannot be used as a variable name in Python since it has a special meaning). The error function to minimize w.r.t. $\\bw$:\n",
      "\n",
      "$E(\\bw) = \\frac{1}{2} (\\bPhi\\bw - \\bt)^T(\\bPhi\\bw - \\bt) + \\frac{\\lambda}{2} \\mathbf{w}^T \\mathbf{w}$\n",
      "\n",
      "For background, see section 3.1.4 of the MLPR book."
     ]
    },
    {
     "cell_type": "code",
     "collapsed": false,
     "input": [
      "%pylab inline\n",
      "import numpy as np\n",
      "import matplotlib.pyplot as plt\n",
      "\n",
      "def fit_polynomial_reg(x,t,M,lamb):\n",
      "    X = np.tile(np.copy(x),(M + 1,1))\n",
      "    for i in xrange(len(X)):\n",
      "        X[i] = X[i]**i\n",
      "    X = X.T\n",
      "    w = np.linalg.inv(lamb * np.identity(M + 1) + X.T.dot(X)).dot(X.T).dot(t)\n",
      "    return w\n",
      "\n",
      "#check:\n",
      "plt.plot(x_plot, np.sin(x_plot))\n",
      "for i in range (0, np.size(sampleX)):\n",
      "    plt.plot(sampleX[i], sampleY[i], marker='o', color='k')\n",
      "poly_ = fit_polynomial_reg(sampleX, sampleY, 3, math.exp(-1))\n",
      "pol_ = np.polynomial.Polynomial(poly_.reshape(1,poly_.shape[0])[0])\n",
      "plt.plot(x_plot, pol_(x_plot), 'r')"
     ],
     "language": "python",
     "metadata": {},
     "outputs": [
      {
       "output_type": "stream",
       "stream": "stdout",
       "text": [
        "Populating the interactive namespace from numpy and matplotlib\n"
       ]
      },
      {
       "output_type": "stream",
       "stream": "stderr",
       "text": [
        "WARNING: pylab import has clobbered these variables: ['sin', 'pi']\n",
        "`%matplotlib` prevents importing * from pylab and numpy\n"
       ]
      },
      {
       "metadata": {},
       "output_type": "pyout",
       "prompt_number": 26,
       "text": [
        "[<matplotlib.lines.Line2D at 0xb3eb5c0>]"
       ]
      },
      {
       "metadata": {},
       "output_type": "display_data",
       "png": "[encoded data removed]",
       "text": [
        "<matplotlib.figure.Figure at 0xa1b7eb8>"
       ]
      }
     ],
     "prompt_number": 26
    },
    {
     "cell_type": "markdown",
     "metadata": {},
     "source": [
      "\n",
      "\n",
      "\n",
      "\n",
      "\n",
      "### 1.5 Model selection by cross-validation (10 points)\n",
      "Use cross-validation to find a good choice of $M$ and $\\lambda$, given a dataset of $N=9$ datapoints generated with `gen_sinusoidal(9)`. You should write a function that tries (loops over) a reasonable range of choices of $M$ and $\\lambda$, and returns the choice with the best cross-validation error. In this case you can use $K=9$ folds, corresponding to _leave-one-out_ crossvalidation.\n",
      "\n",
      "You can let $M \\in (0, 1, ..., 10)$, and let $\\lambda \\in (e^{-10}, e^{-9}, ..., e^{0})$.\n",
      "\n",
      "To get you started, here's a method you can use to generate indices of cross-validation folds."
     ]
    },
    {
     "cell_type": "code",
     "collapsed": false,
     "input": [
      "import numpy as np\n",
      "\n",
      "def kfold_indices(N,k):\n",
      "    all_indices = np.arange(N,dtype=int)\n",
      "    np.random.shuffle(all_indices)\n",
      "    idx = np.floor(np.linspace(0,N,k+1))\n",
      "    train_folds = []\n",
      "    valid_folds = []\n",
      "    for fold in range(k):\n",
      "        valid_indices = all_indices[idx[fold]:idx[fold+1]]\n",
      "        valid_folds.append(valid_indices)\n",
      "        train_folds.append(np.setdiff1d(all_indices, valid_indices)) #appends an array of idk - valid_folds to train_folds\n",
      "    return train_folds, valid_folds\n",
      "        \n",
      "#evaluate all models with different M and lamb with given data\n",
      "def model_evaluation(dataX,dataY):\n",
      "    models = np.zeros((11, 11))\n",
      "    indices = kfold_indices(9,9)\n",
      "    error = 0\n",
      "   \n",
      "    for m in range(11): #loop over 11 Ms\n",
      "        for lambd in range(11): #loop over 11 lambdas\n",
      "            #reset error to zero\n",
      "            error = np.zeros(9)\n",
      "            #loop over 9 folds\n",
      "            train_foldX = np.zeros(9)\n",
      "            train_foldY = np.zeros(9)\n",
      "            for l in range(0,9):\n",
      "                #create train_fold\n",
      "                train_fold = dataX[indices[0][l]]\n",
      "                valid_fold = dataY[indices[1][l]]\n",
      "                #fit polynomial for train_fold\n",
      "                poly = fit_polynomial_reg(train_fold, train_fold, m, math.exp(-lambd))\n",
      "                #sum calculated prediction error\n",
      "                error[l] = (valid_fold - np.polyval(poly, valid_fold))**2\n",
      "            #update models with error for M and lambd\n",
      "            models[m][lambd] = (sqrt(sum(error)/9))\n",
      "    return models\n",
      "\n",
      "def get_best_model(models):\n",
      "    best_error = models[0][0];\n",
      "    best_i = 0;\n",
      "    best_j = 0;\n",
      "    for i in range(0,11):\n",
      "        for j in range(0,11):\n",
      "            if (models[i][j] < best_error):\n",
      "                best_error = models[i][j]\n",
      "                best_i = i\n",
      "                best_j = j\n",
      "    return best_i,best_j\n",
      "#asdasd\n",
      "def plot_errors(errors, best):\n",
      "    bestX = best[0]\n",
      "    bestY = best[1]\n",
      "    groups = len(errors)\n",
      "    \n",
      "    ind = np.arange(groups)\n",
      "    width = 0.07\n",
      "    \n",
      "    fig, ax = plt.subplots()\n",
      "    rcParams['figure.figsize'] = 13, 5\n",
      "    for lam in errors:\n",
      "        ax.bar(ind, lam, width, color='r')\n",
      "        ind = ind + width\n",
      "    \n",
      "    ax.set_ylabel('Error')\n",
      "    ax.set_title('Error grouped by M')\n",
      "    ax.set_xticks(np.arange(groups) + width)\n",
      "    ax.set_xticklabels(('M=0', 'M=1', 'M=2', 'M=3', 'M=4', 'M=5', 'M=6', 'M=7', 'M=8', 'M=9', 'M=10'))\n",
      "    \n",
      "    ## highlight best ##\n",
      "    times = 0\n",
      "    highestError = 0\n",
      "    for m in errors:\n",
      "       for n in m:\n",
      "            highestError = max(highestError, n)\n",
      "    bestHeight = errors[bestX][bestY]\n",
      "    \n",
      "    ax.annotate('Best performing lambda, M combination (' + str(bestX) + ', ' + str(bestY) + ')',\n",
      "                xy=(bestX + (bestY + 1) * width, bestHeight), xycoords='data',\n",
      "                xytext=(4, 0.8 * highestError), textcoords='data',\n",
      "                arrowprops=dict(arrowstyle=\"->\",\n",
      "                                connectionstyle=\"arc3\"), \n",
      "                )\n",
      "    plt.show()\n",
      "    \n",
      "models = model_evaluation(sampleData[0],sampleData[1])\n",
      "print models\n",
      "plot_errors(models, get_best_model(models))\n",
      "#wrong, why "
     ],
     "language": "python",
     "metadata": {},
     "outputs": [
      {
       "output_type": "stream",
       "stream": "stdout",
       "text": [
        "[[  2.80791345e+00   3.01289498e+00   3.09657463e+00   3.12861029e+00\n",
        "    3.14057233e+00   3.14499723e+00   3.14662836e+00   3.14722888e+00\n",
        "    3.14744985e+00   3.14753115e+00   3.14756106e+00]\n",
        " [  1.15010587e+00   1.17442513e+00   1.18597791e+00   1.19072078e+00\n",
        "    1.19254221e+00   1.19322323e+00   1.19347527e+00   1.19356820e+00\n",
        "    1.19360241e+00   1.19361500e+00   1.19361963e+00]\n",
        " [  2.18853154e-01   1.14361494e-01   5.00592154e-02   1.98168038e-02\n",
        "    7.50114333e-03   2.78926323e-03   1.03020088e-03   3.79546177e-04\n",
        "    1.39702702e-04   5.14039731e-05   1.89118486e-05]\n",
        " [  5.32947965e-01   6.65044532e-01   8.07424722e-01   9.02744844e-01\n",
        "    9.49117414e-01   9.68255301e-01   9.75614470e-01   9.78367013e-01\n",
        "    9.79385852e-01   9.79761512e-01   9.79899824e-01]\n",
        " [  6.40275813e-01   5.77953788e-01   4.64069292e-01   3.38146695e-01\n",
        "    2.59965117e-01   2.30658216e-01   2.21847627e-01   2.19125458e-01\n",
        "    2.18211723e-01   2.17888419e-01   2.17771271e-01]\n",
        " [  5.43566981e-01   5.37388673e-01   5.64884953e-01   6.29976491e-01\n",
        "    7.30878595e-01   8.32835349e-01   8.99855650e-01   9.32325680e-01\n",
        "    9.45716092e-01   9.50864511e-01   9.52790118e-01]\n",
        " [  5.21627400e-01   5.06276038e-01   4.96530100e-01   4.87345392e-01\n",
        "    4.71085099e-01   4.39472416e-01   3.94920927e-01   3.57798054e-01\n",
        "    3.39772205e-01   3.33379853e-01   3.31237611e-01]\n",
        " [  6.00369462e-01   6.59654156e-01   7.17565482e-01   7.51159006e-01\n",
        "    7.64860749e-01   7.70612455e-01   7.76938838e-01   7.90481857e-01\n",
        "    8.18111450e-01   8.60193052e-01   9.02180352e-01]\n",
        " [  6.37343241e-01   5.98669148e-01   5.37108142e-01   4.83830529e-01\n",
        "    4.57763598e-01   4.51007025e-01   4.52856776e-01   4.56529466e-01\n",
        "    4.58888500e-01   4.60030607e-01   4.60488257e-01]\n",
        " [  6.06459220e-01   6.16183707e-01   6.50164891e-01   7.04091148e-01\n",
        "    7.73527213e-01   8.36621859e-01   8.75869696e-01   8.94607587e-01\n",
        "    9.01252686e-01   9.18047133e-01   8.87621820e-01]\n",
        " [  5.89527634e-01   5.73117155e-01   5.69955496e-01   5.76373417e-01\n",
        "    5.83788790e-01   5.90167448e-01   5.38870504e-01   5.42576115e-01\n",
        "    5.12790601e-01   6.67980462e-01   1.81812492e+00]]\n"
       ]
      },
      {
       "metadata": {},
       "output_type": "display_data",
       "png": "[encoded data removed]",
       "text": [
        "<matplotlib.figure.Figure at 0xa3dd828>"
       ]
      }
     ],
     "prompt_number": 27
    },
    {
     "cell_type": "markdown",
     "metadata": {},
     "source": [
      "Create a comprehensible plot of the cross-validation error for each choice of $M$ and $\\lambda$. Highlight the best choice. \n",
      "\n",
      "_Question_: Explain over-fitting and underfitting, illuminated by your plot. Explain the relationship with model bias and model variance."
     ]
    },
    {
     "cell_type": "markdown",
     "metadata": {},
     "source": [
      "Answer:"
     ]
    },
    {
     "cell_type": "markdown",
     "metadata": {},
     "source": [
      "### 1.6 Plot best cross-validated fit (5 points)\n",
      "\n",
      "For some dataset with $N = 9$, plot the model with the optimal $M$ and $\\lambda$ according to the cross-validation error, using the method you just wrote. Let the plot make clear which $M$ and $\\lambda$ were found."
     ]
    },
    {
     "cell_type": "code",
     "collapsed": false,
     "input": [
      "def plot_cross_validated_fit():\n",
      "    models = model_evaluation(sampleData[0],sampleData[1])\n",
      "    best = get_best_model(models)\n",
      "    \n",
      "    poly = fit_polynomial_reg(sampleData[0], sampleData[1], best[0], best[1])\n",
      "    \n",
      "    sampleX = sampleData[0]\n",
      "    sampleY = sampleData[1]\n",
      "    for i in range (0, np.size(sampleX)):\n",
      "        plt.plot(sampleX[i], sampleY[i], marker='o', color='k')\n",
      "    pol = np.polynomial.Polynomial(poly.reshape(1,poly.shape[0])[0])\n",
      "    plt.plot(x_plot, pol(x_plot), 'r')\n",
      "    title('The best model is Model [M=' + str(best[0]) + ', lambda=' +  str(best[1]) + ']')\n",
      "    \n",
      "    \n",
      "plot_cross_validated_fit()\n",
      "#very wrong"
     ],
     "language": "python",
     "metadata": {},
     "outputs": [
      {
       "metadata": {},
       "output_type": "display_data",
       "png": "[encoded data removed]",
       "text": [
        "<matplotlib.figure.Figure at 0xa83c320>"
       ]
      }
     ],
     "prompt_number": 28
    },
    {
     "cell_type": "markdown",
     "metadata": {},
     "source": [
      "## Part 2: Bayesian Linear (Polynomial) Regression\n",
      "\n",
      "### 2.1 Sinusoidal data 2 (5 points)\n",
      "\n",
      "Write a function `gen_sinusoidal2(N)` that behaves identically to `gen_sinusoidal(N)` except that the generated values $x_i$ are not linearly spaced, but drawn from a uniform distribution between $0$ and $2 \\pi$."
     ]
    },
    {
     "cell_type": "code",
     "collapsed": false,
     "input": [
      "%pylab inline\n",
      "\n",
      "def gen_sinusoidal2(N):\n",
      "    retx = []\n",
      "    rety = []\n",
      "    for i in np.linspace(0, 2*np.pi, N) :\n",
      "        retx.append(i + random.uniform(-0.1, 0.1))\n",
      "        rety.append(np.sin(i) + np.random.normal(-0.1, 0.1))\n",
      "    retx = np.array([retx])\n",
      "    rety = np.array([rety])\n",
      "    return np.concatenate((retx, rety), axis = 0)\n",
      "\n",
      "#gen_sinusoidal2(10)\n"
     ],
     "language": "python",
     "metadata": {},
     "outputs": [
      {
       "output_type": "stream",
       "stream": "stdout",
       "text": [
        "Populating the interactive namespace from numpy and matplotlib\n"
       ]
      }
     ],
     "prompt_number": 29
    },
    {
     "cell_type": "markdown",
     "metadata": {},
     "source": [
      "### 2.2 Compute Posterior (15 points)\n",
      "\n",
      "You're going to implement a Bayesian linear regression model, and fit it to the sinusoidal data. Your regression model has a zero-mean isotropic Gaussian prior over the parameters, governed by a single (scalar) precision parameter $\\alpha$, i.e.:\n",
      "\n",
      "$$p(\\bw \\;|\\; \\alpha) = \\mathcal{N}(\\bw \\;|\\; 0, \\alpha^{-1} \\bI)$$\n",
      "\n",
      "The covariance and mean of the posterior are given by:\n",
      "\n",
      "$$\\bS_N= \\left( \\alpha \\bI + \\beta \\bPhi^T \\bPhi \\right)^{-1} $$\n",
      "$$\\bm_N = \\beta\\; \\bS_N \\bPhi^T \\bt$$\n",
      "\n",
      "where $\\alpha$ is the precision of the predictive distribution, and $\\beta$ is the noise precision. \n",
      "See MLPR chapter 3.3 for background.\n",
      "\n",
      "Write a method `fit_polynomial_bayes(x, t, M, alpha, beta)` that returns the mean $\\bm_N$ and covariance $\\bS_N$ of the posterior for a $M$-th order polynomial, given a dataset, where `x`, `t` and `M` have the same meaning as in question 1.2."
     ]
    },
    {
     "cell_type": "code",
     "collapsed": false,
     "input": [
      "def get_Phi (x, M):\n",
      "    Phi = []\n",
      "    for i in range (0, len(x)):\n",
      "        phi = get_phi(x[i], M)\n",
      "        Phi.append(phi)\n",
      "    return np.array(Phi)\n",
      "                   \n",
      "\n",
      "def fit_polynomial_bayes(x, t, M, alpha, beta):\n",
      "    Phi = get_Phi(x, M)\n",
      "    \n",
      "    s_n = inv( alpha * (np.identity(M)) + beta * (transpose(Phi)).dot(Phi) )\n",
      "    m_n = beta  * dot(transpose(dot(Phi,s_n)),transpose(t))\n",
      "    return m_n, s_n # mean, covariance of posterior.\n",
      "\n",
      "#toy_data = gen_sinusoidal2(7)\n",
      "#print toy_data\n",
      "x = [-0.05620824,  1.00078937,  2.1429807,   3.16015134,  4.19276313,  5.21819086, 6.22000009] #toy_data[0]\n",
      "t = [-0.2109823,   0.73987949,  0.86517514, -0.19954382, -1.09343082, -0.95887636, -0.24633497] #toy_data[1]\n",
      "\n",
      "#fit_polynomial_bayes(x, t, 5, 0.5, 25)"
     ],
     "language": "python",
     "metadata": {},
     "outputs": [],
     "prompt_number": 30
    },
    {
     "cell_type": "markdown",
     "metadata": {},
     "source": [
      "### 2.3 Prediction (10 points)\n",
      "\n",
      "The predictive distribution of Bayesian linear regression is:\n",
      "\n",
      "$$ p(t \\;|\\; \\bx, \\bt, \\alpha, \\beta) = \\mathcal{N}(t \\;|\\; \\bm_N^T \\phi(\\bx), \\sigma_N^2(\\bx))$$\n",
      "\n",
      "$$ \\sigma_N^2 = \\frac{1}{\\beta} + \\phi(\\bx)^T \\bS_N \\phi(\\bx) $$\n",
      "\n",
      "where $\\phi(\\bx)$ are the computed features for a new datapoint $\\bx$, and $t$ is the predicted variable for datapoint $\\bx$. \n",
      "\n",
      "Write a function that `predict_polynomial_bayes(x, m, S, beta)` that returns the predictive mean and variance given a new datapoint `x`, posterior mean `m`, posterior variance `S` and a choice of model variance `beta`."
     ]
    },
    {
     "cell_type": "code",
     "collapsed": false,
     "input": [
      "def get_phi(x, M):\n",
      "    phi = []\n",
      "    for i in range(0, M):\n",
      "        phi.append([])\n",
      "        phi[i] = (x**i)\n",
      "    return np.array(phi)\n",
      "\n",
      "def get_sigma(phi_x, t) :\n",
      "    sigma = 0\n",
      "    #print phi_x\n",
      "    for i in len(phi_x) :\n",
      "        sigma = sigma + dot(phi_x,t)\n",
      "    return sigma\n",
      "    \n",
      "def predict_polynomial_bayes(x, m, S, beta):\n",
      "    phi_x = get_phi(x, 5)\n",
      "    \n",
      "    #print dot(dot(transpose(phi_x),S),phi_x)\n",
      "    sigma_square = 1/beta + dot(dot(transpose(phi_x),S),phi_x)\n",
      "    \n",
      "    m_pred = transpose(m).dot(phi_x)\n",
      "    return m_pred, sigma_square \n",
      "\n",
      "#predict_polynomial_bayes(1, fit_polynomial_bayes(x, t, 5, 0.5, 25)[0], fit_polynomial_bayes(x, t, 5, 0.5, 25)[1], 25)"
     ],
     "language": "python",
     "metadata": {},
     "outputs": [],
     "prompt_number": 31
    },
    {
     "cell_type": "markdown",
     "metadata": {},
     "source": [
      "### 2.4 Plot predictive distribution (10 points)\n",
      "\n",
      "a) (5 points) Generate 7 datapoints with `gen_sinusoidal2(7)`. Compute the posterior mean and covariance for a Bayesian polynomial regression model with $M=5$, $\\alpha=\\frac{1}{2}$ and $\\beta=\\frac{1}{0.2^2}$.\n",
      "Plot the Bayesian predictive distribution, where you plot (for $x$ between 0 and $2 \\pi$) $t$'s predictive mean and a 1-sigma predictive variance using `plt.fill_between(..., alpha=0.1)` (the alpha argument induces transparency).\n",
      "\n",
      "Include the datapoints in your plot.\n",
      "\n",
      "b) (5 points) For a second plot, draw 100 samples from the parameters' posterior distribution. Each of these samples is a certain choice of parameters for 5-th order polynomial regression. \n",
      "Display each of these 100 polynomials."
     ]
    },
    {
     "cell_type": "code",
     "collapsed": false,
     "input": [
      "%pylab inline\n",
      "def plot_Bayesian_predictive_distribution(x, t, m_n, s_n):\n",
      "    rang = linspace(0, 2*pi);\n",
      "    \n",
      "    for i in range (0, len(t)):\n",
      "        plot (x[i], t[i], marker='o', color='k')\n",
      "    \n",
      "    poly = m_n\n",
      "    pol = np.polynomial.Polynomial(poly.reshape(1,poly.shape[0])[0])\n",
      "    \n",
      "    #plot the mean predictive distribution\n",
      "    plt.plot(rang, pol(rang), 'r')\n",
      "    \n",
      "    #plot the 1-sigma variance\n",
      "    plt.fill_between(rang, pol(rang)-math.sqrt(predict_polynomial_bayes(1, fit_polynomial_bayes(x, t, 5, 0.5, 25)[0],\n",
      "        fit_polynomial_bayes(x, t, 5, 0.5, 25)[1], 25)[1]), pol(rang)+math.sqrt(predict_polynomial_bayes(1, fit_polynomial_bayes(x, t, 5, 0.5, 25)[0],\n",
      "        fit_polynomial_bayes(x, t, 5, 0.5, 25)[1], 25)[1]), alpha = 0.1)\n",
      "    \n",
      "toy_data = gen_sinusoidal2(7)\n",
      "x = toy_data[0]\n",
      "t = toy_data[1]\n",
      "\n",
      "snmn = fit_polynomial_bayes(x, t, 5, 0.5, 1/(0.2)**2)\n",
      "m_n = snmn[0]\n",
      "s_n = snmn[1]\n",
      "\n",
      "plot_Bayesian_predictive_distribution(x, t, m_n, s_n)"
     ],
     "language": "python",
     "metadata": {},
     "outputs": [
      {
       "output_type": "stream",
       "stream": "stdout",
       "text": [
        "Populating the interactive namespace from numpy and matplotlib\n"
       ]
      },
      {
       "metadata": {},
       "output_type": "display_data",
       "png": "[encoded data removed]",
       "text": [
        "<matplotlib.figure.Figure at 0xb3dd400>"
       ]
      }
     ],
     "prompt_number": 32
    },
    {
     "cell_type": "code",
     "collapsed": false,
     "input": [
      "def plot2():\n",
      "    xrang = linspace(0, 2*pi)\n",
      "    fig = plt.figure()\n",
      "    toy_data = gen_sinusoidal2(7)\n",
      "    x = toy_data[0]\n",
      "    t = toy_data[1]\n",
      "    \n",
      "    snmn = fit_polynomial_bayes(x, t, 5, 0.5, 1/(0.2)**2)\n",
      "    m_n = snmn[0]\n",
      "    s_n = snmn[1]\n",
      "        \n",
      "    pol = np.polynomial.Polynomial(m_n.reshape(1, m_n.shape[0])[0])\n",
      "    \n",
      "    for i in range (0, len(x)):\n",
      "        plot (x[i], t[i], 'o')\n",
      "    for i in linspace (0, 2*pi, 100): \n",
      "        newm_n = predict_polynomial_bayes(i, m_n, s_n, 25)[0]\n",
      "        plot(i, newm_n, 'x')    \n",
      "    title('Denoted with \\'x\\' are the predicted values')\n",
      "\n",
      "plot2()"
     ],
     "language": "python",
     "metadata": {},
     "outputs": [
      {
       "metadata": {},
       "output_type": "display_data",
       "png": "[encoded data removed]",
       "text": [
        "<matplotlib.figure.Figure at 0xa6990b8>"
       ]
      }
     ],
     "prompt_number": 11
    },
    {
     "cell_type": "markdown",
     "metadata": {},
     "source": [
      "### 2.5 Additional questions (10 points)\n",
      "\n",
      "a) (5 points) Why is $\\beta=\\frac{1}{0.2^2}$ the best choice of $\\beta$ in section 2.4?\n",
      "\n",
      "b) (5 points) In the case of Bayesian linear regression, both the posterior of the parameters $p(\\bw \\;|\\; \\bt, \\alpha, \\beta)$ and the predictive distribution $p(t \\;|\\; \\bw, \\beta)$ are Gaussian. In consequence (and conveniently), $p(t \\;|\\; \\bt, \\alpha, \\beta)$ is also Gaussian (See MLPR section 3.3.2 and homework 2 question 4). This is actually one of the (rare) cases where we can make Bayesian predictions without resorting to approximative methods.\n",
      "\n",
      "Suppose you have to work with some model $p(t\\;|\\;x,\\bw)$ with parameters $\\bw$, where the posterior distribution $p(\\bw\\;|\\;\\mathcal{D})$ given dataset $\\mathcal{D}$ can not be integrated out when making predictions, but where you can still generate samples from the posterior distribution of the parameters. Explain how you can still make approximate Bayesian predictions using samples from the parameters' posterior distribution."
     ]
    },
    {
     "cell_type": "markdown",
     "metadata": {},
     "source": [
      "a) Since we added Gaussian noise with standard deviation of 0.2 while generating the data in 2.1 the best choice for the precision parameter is its true value beta = (1/0.2)\u00b2 = 25"
     ]
    },
    {
     "cell_type": "markdown",
     "metadata": {},
     "source": [
      "b) "
     ]
    }
   ],
   "metadata": {}
  }
 ]
}